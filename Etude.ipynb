{
 "cells": [
  {
   "cell_type": "markdown",
   "metadata": {},
   "source": [
    "# Importation des bibliothéques\n"
   ]
  },
  {
   "cell_type": "code",
   "execution_count": 1,
   "metadata": {},
   "outputs": [],
   "source": [
    "import pandas as pd\n",
    "import numpy as np\n",
    "\n",
    "from sklearn.preprocessing import FunctionTransformer\n",
    "from sklearn.base import BaseEstimator, TransformerMixin\n",
    "import seaborn as sns\n",
    "\n",
    "import re\n",
    "import string \n",
    "\n",
    "\n",
    "from sklearn.pipeline import Pipeline \n",
    "from sklearn.pipeline import FeatureUnion\n",
    "from sklearn.preprocessing import OneHotEncoder\n",
    "from sklearn.compose import make_column_transformer\n",
    "\n",
    "\n",
    "from sklearn.preprocessing import StandardScaler\n",
    "from sklearn.preprocessing import OneHotEncoder\n",
    "from sklearn.linear_model import SGDClassifier\n",
    "from sklearn.impute import SimpleImputer\n",
    "import seaborn as sns\n",
    "\n",
    "from sklearn.compose import make_column_transformer\n",
    "from sklearn.compose import make_column_selector\n",
    "\n",
    "from sklearn.model_selection import train_test_split \n",
    "from sklearn.metrics import mean_absolute_error as mae\n",
    "\n",
    "from sklearn.linear_model import LogisticRegression\n",
    "from sklearn.ensemble import RandomForestClassifier,GradientBoostingClassifier\n",
    "from sklearn.metrics import accuracy_score\n",
    "\n",
    "import warnings\n",
    "warnings.filterwarnings(\"ignore\")\n"
   ]
  },
  {
   "cell_type": "markdown",
   "metadata": {},
   "source": [
    "# Exploration du jeu de données\n"
   ]
  },
  {
   "cell_type": "code",
   "execution_count": 2,
   "metadata": {},
   "outputs": [
    {
     "name": "stdout",
     "output_type": "stream",
     "text": [
      "<class 'pandas.core.frame.DataFrame'>\n",
      "RangeIndex: 891 entries, 0 to 890\n",
      "Data columns (total 12 columns):\n",
      " #   Column       Non-Null Count  Dtype  \n",
      "---  ------       --------------  -----  \n",
      " 0   PassengerId  891 non-null    int64  \n",
      " 1   Survived     891 non-null    int64  \n",
      " 2   Pclass       891 non-null    int64  \n",
      " 3   Name         891 non-null    object \n",
      " 4   Sex          891 non-null    object \n",
      " 5   Age          714 non-null    float64\n",
      " 6   SibSp        891 non-null    int64  \n",
      " 7   Parch        891 non-null    int64  \n",
      " 8   Ticket       891 non-null    object \n",
      " 9   Fare         891 non-null    float64\n",
      " 10  Cabin        204 non-null    object \n",
      " 11  Embarked     889 non-null    object \n",
      "dtypes: float64(2), int64(5), object(5)\n",
      "memory usage: 83.7+ KB\n"
     ]
    }
   ],
   "source": [
    "# Lecture de df\n",
    "df = pd.read_csv(\"titanic.csv\")\n",
    "\n",
    "# Affichage des 5 lignes\n",
    "df.head(5)\n",
    "\n",
    "# info\n",
    "df.info()\n"
   ]
  },
  {
   "cell_type": "markdown",
   "metadata": {},
   "source": [
    "Informations complémentaires sur certaines variable\n",
    "\n",
    "| Variable | Description|\n",
    "|----------|-------------|\n",
    "|Survided  | 1 si survivant 0 si non |\n",
    "|Pclass | Classe (1 : première, 2 : seconde, 3 : troisième)|\n",
    "|SibSp | Nb frères / soeurs et / ou époux(se) à bord|\n",
    "|Parch| Nb de parents et / ou enfants à bord|\n",
    "|Fare| Prix du billet|\n",
    "|Embarked | Part d'embarquement (C : Cherbourg, Q : Queenstown et S : Southampton)|"
   ]
  },
  {
   "cell_type": "code",
   "execution_count": 3,
   "metadata": {},
   "outputs": [],
   "source": [
    "# Séparation features et target\n",
    "y = df['Survived']\n",
    "X = df.drop('Survived', axis=1)\n"
   ]
  },
  {
   "cell_type": "markdown",
   "metadata": {},
   "source": [
    "# Implémentation des transformeurs\n",
    "\n",
    "## Transformeur pour la classe des âges"
   ]
  },
  {
   "cell_type": "markdown",
   "metadata": {},
   "source": [
    "Catégorisation des age de cette façon :\n",
    "| Intervalle d'âge | Catégorie |\n",
    "|------------------|-----------|\n",
    "| 0-12 ans         | Kid       |\n",
    "| 12 - 18 ans | Adolescent|\n",
    "| 18 - 30 ans | Adult-|\n",
    "|30 - 50 ans | Adult|\n",
    "|50 - 65 ans | Adult+|\n",
    "| + de 65 ans| Senior|"
   ]
  },
  {
   "cell_type": "markdown",
   "metadata": {},
   "source": [
    "Création d'un trasformeur AgeCat qui retournera une colone de DF contenant les âges catégorises. "
   ]
  },
  {
   "cell_type": "markdown",
   "metadata": {},
   "source": [
    "-\tDéfinition classe AgeCat qui hérite des classes BaseEstimator et TransformerMixim. Cette classe aura trois méthodes, __init__, fit et transform, définies de la façon suivante :\n",
    "    * __init__ : le constructeur ne prend pas d’argument et ne fait rien\n",
    "    * Fit : prends 2 arguments, un DataFrame X et une liste y, mais ne fait rien\n",
    "    * Transform : Prend en argument un DataFrame X puis renvoie une DataFrame contenant une seule colonne correspondant à la catégorie de chaque élément de X[‘Age’]. \n"
   ]
  },
  {
   "cell_type": "code",
   "execution_count": 5,
   "metadata": {},
   "outputs": [],
   "source": [
    "class AgeCat(BaseEstimator, TransformerMixin):\n",
    "    # BaseEstimator contient les méthodes get_params et set_params\n",
    "    # TransformetMixin contient la méthode fit_transform\n",
    "\n",
    "    def __init__(self):             # Ne fait rien\n",
    "        return None\n",
    "    \n",
    "    def fit(self, X, y = None):     # Ne fait rien\n",
    "        return self\n",
    "    \n",
    "    def transform(self, X):         #Création de la nouvelle colonne\n",
    "        return pd.DataFrame(pd.cut(X['Age'], bins = [0, 12, 18, 30, 50, 65, np.max(df.Age)], \n",
    "                                   labels=['Kid', 'Adolescent','Adult-', 'Adult', 'Adult+', 'Senior']))"
   ]
  },
  {
   "cell_type": "code",
   "execution_count": 6,
   "metadata": {},
   "outputs": [
    {
     "data": {
      "text/html": [
       "<div>\n",
       "<style scoped>\n",
       "    .dataframe tbody tr th:only-of-type {\n",
       "        vertical-align: middle;\n",
       "    }\n",
       "\n",
       "    .dataframe tbody tr th {\n",
       "        vertical-align: top;\n",
       "    }\n",
       "\n",
       "    .dataframe thead th {\n",
       "        text-align: right;\n",
       "    }\n",
       "</style>\n",
       "<table border=\"1\" class=\"dataframe\">\n",
       "  <thead>\n",
       "    <tr style=\"text-align: right;\">\n",
       "      <th></th>\n",
       "      <th>Age</th>\n",
       "    </tr>\n",
       "  </thead>\n",
       "  <tbody>\n",
       "    <tr>\n",
       "      <th>0</th>\n",
       "      <td>Adult-</td>\n",
       "    </tr>\n",
       "    <tr>\n",
       "      <th>1</th>\n",
       "      <td>Adult</td>\n",
       "    </tr>\n",
       "    <tr>\n",
       "      <th>2</th>\n",
       "      <td>Adult-</td>\n",
       "    </tr>\n",
       "    <tr>\n",
       "      <th>3</th>\n",
       "      <td>Adult</td>\n",
       "    </tr>\n",
       "    <tr>\n",
       "      <th>4</th>\n",
       "      <td>Adult</td>\n",
       "    </tr>\n",
       "    <tr>\n",
       "      <th>...</th>\n",
       "      <td>...</td>\n",
       "    </tr>\n",
       "    <tr>\n",
       "      <th>886</th>\n",
       "      <td>Adult-</td>\n",
       "    </tr>\n",
       "    <tr>\n",
       "      <th>887</th>\n",
       "      <td>Adult-</td>\n",
       "    </tr>\n",
       "    <tr>\n",
       "      <th>888</th>\n",
       "      <td>NaN</td>\n",
       "    </tr>\n",
       "    <tr>\n",
       "      <th>889</th>\n",
       "      <td>Adult-</td>\n",
       "    </tr>\n",
       "    <tr>\n",
       "      <th>890</th>\n",
       "      <td>Adult</td>\n",
       "    </tr>\n",
       "  </tbody>\n",
       "</table>\n",
       "<p>891 rows × 1 columns</p>\n",
       "</div>"
      ],
      "text/plain": [
       "        Age\n",
       "0    Adult-\n",
       "1     Adult\n",
       "2    Adult-\n",
       "3     Adult\n",
       "4     Adult\n",
       "..      ...\n",
       "886  Adult-\n",
       "887  Adult-\n",
       "888     NaN\n",
       "889  Adult-\n",
       "890   Adult\n",
       "\n",
       "[891 rows x 1 columns]"
      ]
     },
     "execution_count": 6,
     "metadata": {},
     "output_type": "execute_result"
    }
   ],
   "source": [
    "# Création DataFrame TestAge qui contient seulement la colonne 'Age' de X\n",
    "TestAge = X[['Age']]\n",
    "\n",
    "# Créer une instance age_categorized de AgeCat\n",
    "age_categorized = AgeCat()\n",
    "\n",
    "# Vérification que modèle retourne les âges catégorisés\n",
    "age_categorized.fit_transform(TestAge)\n"
   ]
  },
  {
   "cell_type": "markdown",
   "metadata": {},
   "source": [
    "## Transformeur pour la taille de la famille\n",
    "\n",
    "La variable SibSp et Parch, additionnées nous renseigne la taille de la famille. \n",
    "\n",
    "Création de la classe FamilySize qui permettra de retourner un DataFrame d'une colonne contenant la taille de la famille."
   ]
  },
  {
   "cell_type": "markdown",
   "metadata": {},
   "source": [
    "-\tDéfinition classe FamilySize qui hérite des classes BaseEstimator et TransformerMixim. Cette classe aura trois méthodes, __init__, fit et transform, définies de la façon suivante :\n",
    "    * __init__ : le constructeur ne prend pas d’argument et ne fait rien\n",
    "    * Fit : prends 2 arguments, un DataFrame X et une liste y, mais ne fait rien\n",
    "    * Transform : Prend en argument un DataFrame X puis renvoie une DataFrame contenant une seule colonne correspondant à la somme toutes les colonnes du DataFrame X incrémentée de 1 "
   ]
  },
  {
   "cell_type": "code",
   "execution_count": 7,
   "metadata": {},
   "outputs": [],
   "source": [
    "class FamilySize(BaseEstimator, TransformerMixin):\n",
    "    # BaseEstimator contient les méthodes get_params et set_params.\n",
    "    # TransformerMixin contient la méthode fit_transform.\n",
    "    \n",
    "    def __init__(self):\n",
    "        return None\n",
    "\n",
    "        \n",
    "    def fit(self, X, y = None):  # Ne fait rien. \n",
    "        return self\n",
    "    \n",
    "    def transform(self, X): # somme toutes les personnes de la famille + lui même \n",
    "        return pd.DataFrame(X.sum(axis=1)+1)\n"
   ]
  },
  {
   "cell_type": "code",
   "execution_count": 8,
   "metadata": {},
   "outputs": [
    {
     "data": {
      "text/html": [
       "<div>\n",
       "<style scoped>\n",
       "    .dataframe tbody tr th:only-of-type {\n",
       "        vertical-align: middle;\n",
       "    }\n",
       "\n",
       "    .dataframe tbody tr th {\n",
       "        vertical-align: top;\n",
       "    }\n",
       "\n",
       "    .dataframe thead th {\n",
       "        text-align: right;\n",
       "    }\n",
       "</style>\n",
       "<table border=\"1\" class=\"dataframe\">\n",
       "  <thead>\n",
       "    <tr style=\"text-align: right;\">\n",
       "      <th></th>\n",
       "      <th>0</th>\n",
       "    </tr>\n",
       "  </thead>\n",
       "  <tbody>\n",
       "    <tr>\n",
       "      <th>0</th>\n",
       "      <td>2</td>\n",
       "    </tr>\n",
       "    <tr>\n",
       "      <th>1</th>\n",
       "      <td>2</td>\n",
       "    </tr>\n",
       "    <tr>\n",
       "      <th>2</th>\n",
       "      <td>1</td>\n",
       "    </tr>\n",
       "    <tr>\n",
       "      <th>3</th>\n",
       "      <td>2</td>\n",
       "    </tr>\n",
       "    <tr>\n",
       "      <th>4</th>\n",
       "      <td>1</td>\n",
       "    </tr>\n",
       "    <tr>\n",
       "      <th>...</th>\n",
       "      <td>...</td>\n",
       "    </tr>\n",
       "    <tr>\n",
       "      <th>886</th>\n",
       "      <td>1</td>\n",
       "    </tr>\n",
       "    <tr>\n",
       "      <th>887</th>\n",
       "      <td>1</td>\n",
       "    </tr>\n",
       "    <tr>\n",
       "      <th>888</th>\n",
       "      <td>4</td>\n",
       "    </tr>\n",
       "    <tr>\n",
       "      <th>889</th>\n",
       "      <td>1</td>\n",
       "    </tr>\n",
       "    <tr>\n",
       "      <th>890</th>\n",
       "      <td>1</td>\n",
       "    </tr>\n",
       "  </tbody>\n",
       "</table>\n",
       "<p>891 rows × 1 columns</p>\n",
       "</div>"
      ],
      "text/plain": [
       "     0\n",
       "0    2\n",
       "1    2\n",
       "2    1\n",
       "3    2\n",
       "4    1\n",
       "..  ..\n",
       "886  1\n",
       "887  1\n",
       "888  4\n",
       "889  1\n",
       "890  1\n",
       "\n",
       "[891 rows x 1 columns]"
      ]
     },
     "execution_count": 8,
     "metadata": {},
     "output_type": "execute_result"
    }
   ],
   "source": [
    "# Création DataFrame TestFamilySize qui contient ‘SibSp’ et ‘Parch’ de X. \n",
    "TestFamilySize = X[['SibSp', 'Parch']]\n",
    "\n",
    "# Créer une instance size_family de FamilySize\n",
    "size_family = FamilySize()\n",
    "\n",
    "# Vérification que modèle retourne les taille des familles\n",
    "size_family.fit_transform(TestFamilySize)"
   ]
  },
  {
   "cell_type": "markdown",
   "metadata": {},
   "source": [
    "## Transformeur pour la séparation de la variable 'Name'\n",
    "\n",
    "La variable ‘Name’ possède les informations suivantes : Nom de famille, le titre ainsi que le ou les prénoms.\n",
    "\n",
    "\n",
    "Ces éléments peuvent être très utiles notamment pour traiter les données manquantes d’autres variables.\n",
    "\n",
    "\n",
    "Cependant, ces 3 éléments sont tous présent dans une seule et même variable ce qui rends peu exploitables. \n",
    "\n",
    "\n",
    "Création d'une classe SplitName qui permet de renvoyer ces 3 éléments dans 3 colonnes distinctes.\n"
   ]
  },
  {
   "cell_type": "markdown",
   "metadata": {},
   "source": [
    "-\tDéfinition classe SplitName qui hérite des classes BaseEstimator et TransformerMixim. Cette classe aura trois méthodes, __init__, fit et transform, définies de la façon suivante :\n",
    "    * __init__ : Le constructeur prend 1 argument, column_name qui sera l'attribut d'une instance de SplitName. Il correspond au nom de la colonne qui devra être segmentée\n",
    "    * Fit :  Prend 2 arguments, un DataFrame X et une liste y, mais ne fait rien\n",
    "    * Transform  : Prend en argument un DataFrame X. Elle ajoute à ce DataFrame 3 colonnes, 'Surname', 'Title' et 'Firstname(s)' qui contiennent respectivement le nom de famille, le titre et le(s) prénom(s) présents dans la colonne 'Name'"
   ]
  },
  {
   "cell_type": "code",
   "execution_count": 11,
   "metadata": {},
   "outputs": [],
   "source": [
    "\n",
    "def spliter(X):\n",
    "    \n",
    "    ''' Cette fonction auxiliaire utilise les expressions régulières afin de créer \n",
    "    une liste de 3 éléments pour chaque élément d'une colonne de DataFrame.  \n",
    "    Construite pour la colonne 'Name', elle permettra de créer les listes qui auront \n",
    "    le nom, le titre et le(s) prénom(s)'''\n",
    "        \n",
    "    chaine=X.apply(lambda x: re.split(\"[.,\\((.*?)\\)]\",x))\n",
    "\n",
    "    for elt in chaine:\n",
    "        if elt[-1]=='': # on enlève des chaines de caractères vides à la fin ''\n",
    "            del(elt[-1])\n",
    "    return(chaine)\n",
    "    \n",
    "    \n"
   ]
  },
  {
   "cell_type": "code",
   "execution_count": 12,
   "metadata": {},
   "outputs": [],
   "source": [
    "class SplitName(BaseEstimator, TransformerMixin):\n",
    "    \n",
    "    def __init__(self, column_name):\n",
    "        self.column_name = column_name   # nom de la colonne à segmenter\n",
    "        \n",
    "    def fit(self, X, y=None):\n",
    "        return self\n",
    "    \n",
    "    def transform(self, X):\n",
    "        \n",
    "        chaine=spliter(X[self.column_name]) # Retourne une liste de 3 éléments pour extraire le nom, le prénom et le titre \n",
    "\n",
    "        X['Surname'] = chaine.apply(lambda x : x[0] ) \n",
    "        X['Title'] = chaine.apply(lambda x : x[1][1:]) # Car il y a un espace\n",
    "        X['Firstname(s)'] = chaine.apply(lambda x : x[2] )\n",
    "     \n",
    "\n",
    "        return X"
   ]
  },
  {
   "cell_type": "code",
   "execution_count": 13,
   "metadata": {},
   "outputs": [
    {
     "data": {
      "text/html": [
       "<div>\n",
       "<style scoped>\n",
       "    .dataframe tbody tr th:only-of-type {\n",
       "        vertical-align: middle;\n",
       "    }\n",
       "\n",
       "    .dataframe tbody tr th {\n",
       "        vertical-align: top;\n",
       "    }\n",
       "\n",
       "    .dataframe thead th {\n",
       "        text-align: right;\n",
       "    }\n",
       "</style>\n",
       "<table border=\"1\" class=\"dataframe\">\n",
       "  <thead>\n",
       "    <tr style=\"text-align: right;\">\n",
       "      <th></th>\n",
       "      <th>PassengerId</th>\n",
       "      <th>Name</th>\n",
       "      <th>Cabin</th>\n",
       "      <th>Surname</th>\n",
       "      <th>Title</th>\n",
       "      <th>Firstname(s)</th>\n",
       "    </tr>\n",
       "  </thead>\n",
       "  <tbody>\n",
       "    <tr>\n",
       "      <th>0</th>\n",
       "      <td>1</td>\n",
       "      <td>Braund, Mr. Owen Harris</td>\n",
       "      <td>NaN</td>\n",
       "      <td>Braund</td>\n",
       "      <td>Mr</td>\n",
       "      <td>Owen Harris</td>\n",
       "    </tr>\n",
       "    <tr>\n",
       "      <th>1</th>\n",
       "      <td>2</td>\n",
       "      <td>Cumings, Mrs. John Bradley (Florence Briggs Th...</td>\n",
       "      <td>C85</td>\n",
       "      <td>Cumings</td>\n",
       "      <td>Mrs</td>\n",
       "      <td>John Bradley</td>\n",
       "    </tr>\n",
       "    <tr>\n",
       "      <th>2</th>\n",
       "      <td>3</td>\n",
       "      <td>Heikkinen, Miss. Laina</td>\n",
       "      <td>NaN</td>\n",
       "      <td>Heikkinen</td>\n",
       "      <td>Miss</td>\n",
       "      <td>Laina</td>\n",
       "    </tr>\n",
       "    <tr>\n",
       "      <th>3</th>\n",
       "      <td>4</td>\n",
       "      <td>Futrelle, Mrs. Jacques Heath (Lily May Peel)</td>\n",
       "      <td>C123</td>\n",
       "      <td>Futrelle</td>\n",
       "      <td>Mrs</td>\n",
       "      <td>Jacques Heath</td>\n",
       "    </tr>\n",
       "    <tr>\n",
       "      <th>4</th>\n",
       "      <td>5</td>\n",
       "      <td>Allen, Mr. William Henry</td>\n",
       "      <td>NaN</td>\n",
       "      <td>Allen</td>\n",
       "      <td>Mr</td>\n",
       "      <td>William Henry</td>\n",
       "    </tr>\n",
       "    <tr>\n",
       "      <th>...</th>\n",
       "      <td>...</td>\n",
       "      <td>...</td>\n",
       "      <td>...</td>\n",
       "      <td>...</td>\n",
       "      <td>...</td>\n",
       "      <td>...</td>\n",
       "    </tr>\n",
       "    <tr>\n",
       "      <th>886</th>\n",
       "      <td>887</td>\n",
       "      <td>Montvila, Rev. Juozas</td>\n",
       "      <td>NaN</td>\n",
       "      <td>Montvila</td>\n",
       "      <td>Rev</td>\n",
       "      <td>Juozas</td>\n",
       "    </tr>\n",
       "    <tr>\n",
       "      <th>887</th>\n",
       "      <td>888</td>\n",
       "      <td>Graham, Miss. Margaret Edith</td>\n",
       "      <td>B42</td>\n",
       "      <td>Graham</td>\n",
       "      <td>Miss</td>\n",
       "      <td>Margaret Edith</td>\n",
       "    </tr>\n",
       "    <tr>\n",
       "      <th>888</th>\n",
       "      <td>889</td>\n",
       "      <td>Johnston, Miss. Catherine Helen \"Carrie\"</td>\n",
       "      <td>NaN</td>\n",
       "      <td>Johnston</td>\n",
       "      <td>Miss</td>\n",
       "      <td>Catherine Helen \"Carrie\"</td>\n",
       "    </tr>\n",
       "    <tr>\n",
       "      <th>889</th>\n",
       "      <td>890</td>\n",
       "      <td>Behr, Mr. Karl Howell</td>\n",
       "      <td>C148</td>\n",
       "      <td>Behr</td>\n",
       "      <td>Mr</td>\n",
       "      <td>Karl Howell</td>\n",
       "    </tr>\n",
       "    <tr>\n",
       "      <th>890</th>\n",
       "      <td>891</td>\n",
       "      <td>Dooley, Mr. Patrick</td>\n",
       "      <td>NaN</td>\n",
       "      <td>Dooley</td>\n",
       "      <td>Mr</td>\n",
       "      <td>Patrick</td>\n",
       "    </tr>\n",
       "  </tbody>\n",
       "</table>\n",
       "<p>891 rows × 6 columns</p>\n",
       "</div>"
      ],
      "text/plain": [
       "     PassengerId                                               Name Cabin  \\\n",
       "0              1                            Braund, Mr. Owen Harris   NaN   \n",
       "1              2  Cumings, Mrs. John Bradley (Florence Briggs Th...   C85   \n",
       "2              3                             Heikkinen, Miss. Laina   NaN   \n",
       "3              4       Futrelle, Mrs. Jacques Heath (Lily May Peel)  C123   \n",
       "4              5                           Allen, Mr. William Henry   NaN   \n",
       "..           ...                                                ...   ...   \n",
       "886          887                              Montvila, Rev. Juozas   NaN   \n",
       "887          888                       Graham, Miss. Margaret Edith   B42   \n",
       "888          889           Johnston, Miss. Catherine Helen \"Carrie\"   NaN   \n",
       "889          890                              Behr, Mr. Karl Howell  C148   \n",
       "890          891                                Dooley, Mr. Patrick   NaN   \n",
       "\n",
       "       Surname Title               Firstname(s)  \n",
       "0       Braund    Mr                Owen Harris  \n",
       "1      Cumings   Mrs              John Bradley   \n",
       "2    Heikkinen  Miss                      Laina  \n",
       "3     Futrelle   Mrs             Jacques Heath   \n",
       "4        Allen    Mr              William Henry  \n",
       "..         ...   ...                        ...  \n",
       "886   Montvila   Rev                     Juozas  \n",
       "887     Graham  Miss             Margaret Edith  \n",
       "888   Johnston  Miss   Catherine Helen \"Carrie\"  \n",
       "889       Behr    Mr                Karl Howell  \n",
       "890     Dooley    Mr                    Patrick  \n",
       "\n",
       "[891 rows x 6 columns]"
      ]
     },
     "execution_count": 13,
     "metadata": {},
     "output_type": "execute_result"
    }
   ],
   "source": [
    "# Création DataFrame TestName  qui contient 'PassengerId','Name','Cabin' de X. \n",
    "TestName  = X[['PassengerId','Name','Cabin']]\n",
    "\n",
    "# Créer une instance name_split de SplitName\n",
    "name_split = SplitName('Name')\n",
    "\n",
    "# Vérification que modèle retourne le prénom, le nom et le titre\n",
    "TestName = name_split.fit_transform(TestName)\n",
    "TestName"
   ]
  },
  {
   "cell_type": "markdown",
   "metadata": {},
   "source": [
    "## Transformeur pour la complétion des cabines"
   ]
  },
  {
   "cell_type": "markdown",
   "metadata": {},
   "source": [
    "Détermination de % de valeurs manquantes dans la colonne 'cabin' de TestName\n"
   ]
  },
  {
   "cell_type": "code",
   "execution_count": 14,
   "metadata": {},
   "outputs": [
    {
     "data": {
      "text/plain": [
       "77.10437710437711"
      ]
     },
     "execution_count": 14,
     "metadata": {},
     "output_type": "execute_result"
    }
   ],
   "source": [
    "X['Cabin'].isna().sum()/len(X['Cabin'])*100"
   ]
  },
  {
   "cell_type": "markdown",
   "metadata": {},
   "source": [
    "'+ de 77% de valerurs manquante, cependant cette colonne est importante car elle pourra nous servir pour situer une personne sur le paquebot. \n",
    "\n",
    "Pour remplacer voici la logique : les personnes qui ont le m^me nom de famille seront probablement dans une m^me cabine ou dans une cabine adjacente. \n",
    "\n",
    "Création d'une classe AddCabins qui permet d'ajouter les m^me cabines aux personnes ayant le même nom de famille. \n",
    "\n"
   ]
  },
  {
   "cell_type": "markdown",
   "metadata": {},
   "source": [
    "Le principe :"
   ]
  },
  {
   "cell_type": "code",
   "execution_count": 15,
   "metadata": {},
   "outputs": [
    {
     "name": "stdout",
     "output_type": "stream",
     "text": [
      "Pour illustrer le principe, le passager d'id 5 ne possède pas de cabines:\n",
      "\n",
      "    PassengerId Surname Title Cabin\n",
      "4            5   Allen    Mr   NaN \n",
      "\n",
      "\n",
      " Par contre si on cherche les personnes dont le nom de famille est Allen on obtient:\n",
      "\n",
      "      PassengerId Surname Title Cabin\n",
      "4              5   Allen    Mr   NaN\n",
      "730          731   Allen  Miss    B5 \n",
      "\n",
      " On remarque que Miss Allen possède la cabine B5. \n",
      " On veut alors attribuer à Mr Allen la cabine B5 \n"
     ]
    }
   ],
   "source": [
    "print(\"Pour illustrer le principe, le passager d'id 5 ne possède pas de cabines:\\n\\n\",\n",
    "      TestName.loc[TestName['PassengerId']==5][['PassengerId','Surname','Title','Cabin']], '\\n\\n\\n',\n",
    "\n",
    "      \"Par contre si on cherche les personnes dont le nom de famille est Allen on obtient:\\n\\n\",\n",
    "      TestName.loc[TestName['Surname']=='Allen'][['PassengerId','Surname','Title','Cabin']], '\\n\\n',\n",
    "\n",
    "      \"On remarque que Miss Allen possède la cabine B5. \\n On veut alors attribuer à Mr Allen la cabine B5 \"\n",
    "\n",
    "      )\n"
   ]
  },
  {
   "cell_type": "markdown",
   "metadata": {},
   "source": [
    "Création d'une liste de cabine pour chaque personne : chaque personne ayant le même nom de famille possèdera la m^me liste de cabine.\n"
   ]
  },
  {
   "cell_type": "markdown",
   "metadata": {},
   "source": [
    "Définition ReturnCabin, qui prends en argument liste et renvoie le premier élément non null de la liste. Si la liste contient que des NaN, elle retournera un NaN."
   ]
  },
  {
   "cell_type": "code",
   "execution_count": 16,
   "metadata": {},
   "outputs": [],
   "source": [
    "def ReturnCabin(l):\n",
    "    for elt in l:\n",
    "        if type(elt) is str: \n",
    "            return elt \n",
    "    return np.nan"
   ]
  },
  {
   "cell_type": "markdown",
   "metadata": {},
   "source": [
    "-\tDéfinition classe AddCabin  qui hérite des classes BaseEstimator et TransformerMixim. Cette classe aura trois méthodes, __init__, fit et transform, définies de la façon suivante :\n",
    "    * __init__ : Le constructeur prend 3 arguments, 'column_id' (id des individus), 'column_cabin' (cabines des passagers) et 'column_name' (noms de famille des passagers)\n",
    "    * Fit :  Prend 2 arguments, un DataFrame X et une liste y. Elle stocke en mémoire dans un attribut self.Cabin_list une colonne qui possède les listes de cabines (comme dans le tableau précédent)\n",
    "    * Transform  : Prend en argument un DataFrame X et applique la fonction ReturnCabin à la variable 'CabinList'"
   ]
  },
  {
   "cell_type": "code",
   "execution_count": 17,
   "metadata": {},
   "outputs": [],
   "source": [
    "class AddCabins(BaseEstimator, TransformerMixin):\n",
    "\n",
    "    def __init__(self, column_id, column_cabin, column_name):\n",
    "        self.column_id = column_id \n",
    "        self.column_cabin = column_cabin #Nom de la colonne des Ids \n",
    "        self.column_name = column_name   # nom de la colonne à segmenter\n",
    "        \n",
    "        \n",
    "    def fit(self, X, y=None):\n",
    "\n",
    "        occurences = X[self.column_name].unique()\n",
    "        self.Cabin_list = X[self.column_cabin].apply(lambda x: [])\n",
    "\n",
    "        for family in occurences:\n",
    "            liste = X.loc[X[self.column_name] == family][self.column_cabin].tolist()\n",
    "            for id, name  in zip(X[self.column_id], X[self.column_name]):\n",
    "                if name == family:\n",
    "                    self.Cabin_list.at[id-1] = liste\n",
    "        return self\n",
    "    \n",
    "     \n",
    "    def transform(self, X):\n",
    "        X.loc[:,self.column_cabin] = self.Cabin_list.apply(ReturnCabin)\n",
    "        \n",
    "     \n",
    "        return X\n"
   ]
  },
  {
   "cell_type": "code",
   "execution_count": 18,
   "metadata": {},
   "outputs": [
    {
     "data": {
      "text/html": [
       "<div>\n",
       "<style scoped>\n",
       "    .dataframe tbody tr th:only-of-type {\n",
       "        vertical-align: middle;\n",
       "    }\n",
       "\n",
       "    .dataframe tbody tr th {\n",
       "        vertical-align: top;\n",
       "    }\n",
       "\n",
       "    .dataframe thead th {\n",
       "        text-align: right;\n",
       "    }\n",
       "</style>\n",
       "<table border=\"1\" class=\"dataframe\">\n",
       "  <thead>\n",
       "    <tr style=\"text-align: right;\">\n",
       "      <th></th>\n",
       "      <th>PassengerId</th>\n",
       "      <th>Name</th>\n",
       "      <th>Cabin</th>\n",
       "      <th>Surname</th>\n",
       "      <th>Title</th>\n",
       "      <th>Firstname(s)</th>\n",
       "    </tr>\n",
       "  </thead>\n",
       "  <tbody>\n",
       "    <tr>\n",
       "      <th>4</th>\n",
       "      <td>5</td>\n",
       "      <td>Allen, Mr. William Henry</td>\n",
       "      <td>B5</td>\n",
       "      <td>Allen</td>\n",
       "      <td>Mr</td>\n",
       "      <td>William Henry</td>\n",
       "    </tr>\n",
       "  </tbody>\n",
       "</table>\n",
       "</div>"
      ],
      "text/plain": [
       "   PassengerId                      Name Cabin Surname Title    Firstname(s)\n",
       "4            5  Allen, Mr. William Henry    B5   Allen    Mr   William Henry"
      ]
     },
     "execution_count": 18,
     "metadata": {},
     "output_type": "execute_result"
    }
   ],
   "source": [
    "# Création instance complete_cabins de AddCabins\n",
    "complete_cabins = AddCabins('PassengerId','Cabin','Surname')\n",
    "\n",
    "# Vérification du modèle\n",
    "complete_cabins.fit_transform(TestName)\n",
    "TestName.loc[TestName['PassengerId'] == 5]\n"
   ]
  },
  {
   "cell_type": "markdown",
   "metadata": {},
   "source": [
    "Il reste  beaucoup de valeurs manquantes mais il est difficile de se passer de cette variable."
   ]
  },
  {
   "cell_type": "markdown",
   "metadata": {},
   "source": [
    "## Transformeur pour positionnement des cabines\n",
    "\n",
    "La variable Cabin peut donner des informations très intéressantes pour le sauvetage des personnes. En effet, une personne située à coté des canots de sauvetage aura surement plus de chance de survivre qu'une personne située dans la partie inférieure du bateau."
   ]
  },
  {
   "attachments": {
    "image.png": {
     "image/png": "[encoded data removed]"
    }
   },
   "cell_type": "markdown",
   "metadata": {},
   "source": [
    "![image.png](attachment:image.png)"
   ]
  },
  {
   "cell_type": "markdown",
   "metadata": {},
   "source": [
    "L'image ci-dessus présente le pont C, les cabines de numéro pair sont situées à bâbord (gauche en direction de la trajectoire du navire) alors que les cabines impaires sont situées à tribord (droite).\n",
    "\n",
    "Définition un transformeur SplitCabin qui permettra de découper une chaine de caractères où le premier élément est une lettre et le reste est un entier."
   ]
  },
  {
   "cell_type": "markdown",
   "metadata": {},
   "source": [
    "-\tDéfinition fonction babtri qui prend en argument un nombre de type float et renvoie la chaine de caractères 'Babord' si le nombre est pair, 'Tribord' si le nombre est impair et un NaN s'il n'est ni pair ni impair (En cas de valeurs manquantes).\n",
    "\n",
    "\n",
    "-\tDéfinition classe SplitCabin qui hérite des classes BaseEstimator et TransformerMixin. Cette classe aura trois méthodes, __init__, fit et transform, définies de la façon suivante:\n",
    "    * __init__: Le constructeur prend 1 argument, column_name qui sera l'attribut d'une instance SplitCabin. Il correspond au nom de la colonne qui devra être segmentée.\n",
    "    * fit : Prend 2 arguments, un DataFrame X et une liste y, mais ne fait rien.\n",
    "    * transform : Prend en argument un DataFrame X. Elle crée un nouveau DataFrame avec deux colonnes : la colonne self.column_name+_letter qui renvoie la lettre de la cabine et la colonne self.column_name+_parite qui renvoie si la cabine est à babord ou à tribord.\n"
   ]
  },
  {
   "cell_type": "code",
   "execution_count": 19,
   "metadata": {},
   "outputs": [],
   "source": [
    "def babtri(x):\n",
    "    if x%2==0.0:\n",
    "        return('Babord')\n",
    "    if x%2==1.0:\n",
    "        return('Tribord')\n",
    "    else:\n",
    "        return np.nan\n",
    "\n",
    "\n",
    "class SplitCabin(BaseEstimator, TransformerMixin):\n",
    "    # BaseEstimator contient les méthodes get_params et set_params.\n",
    "    # TransformerMixin contient la méthode fit_transform.\n",
    "    \n",
    "    def __init__(self, column_name):\n",
    "        self.column_name = column_name   # nom de la colonne à segmenter\n",
    "        \n",
    "    def fit(self, X, y = None):  # Ne fait rien. \n",
    "        return self\n",
    "    \n",
    "    def transform(self, X): # Création de la nouvelle colonne \n",
    "        new_X = pd.DataFrame()\n",
    "\n",
    "        new_X[self.column_name+'_letter'] = X[self.column_name].str.slice(0,1)\n",
    "        var=X[self.column_name].str.slice(1,5).str.extract(\"([0-9]+)\").astype(\"float\") # variable qui permet d'avoir le numéro de la cabine \n",
    "        new_X[self.column_name+\"_parite\"] = (var.iloc[:,0].apply(babtri))\n",
    "\n",
    "        return new_X\n"
   ]
  },
  {
   "cell_type": "code",
   "execution_count": 20,
   "metadata": {},
   "outputs": [
    {
     "data": {
      "text/html": [
       "<div>\n",
       "<style scoped>\n",
       "    .dataframe tbody tr th:only-of-type {\n",
       "        vertical-align: middle;\n",
       "    }\n",
       "\n",
       "    .dataframe tbody tr th {\n",
       "        vertical-align: top;\n",
       "    }\n",
       "\n",
       "    .dataframe thead th {\n",
       "        text-align: right;\n",
       "    }\n",
       "</style>\n",
       "<table border=\"1\" class=\"dataframe\">\n",
       "  <thead>\n",
       "    <tr style=\"text-align: right;\">\n",
       "      <th></th>\n",
       "      <th>Cabin_letter</th>\n",
       "      <th>Cabin_parite</th>\n",
       "    </tr>\n",
       "  </thead>\n",
       "  <tbody>\n",
       "    <tr>\n",
       "      <th>0</th>\n",
       "      <td>NaN</td>\n",
       "      <td>NaN</td>\n",
       "    </tr>\n",
       "    <tr>\n",
       "      <th>1</th>\n",
       "      <td>C</td>\n",
       "      <td>Tribord</td>\n",
       "    </tr>\n",
       "    <tr>\n",
       "      <th>2</th>\n",
       "      <td>NaN</td>\n",
       "      <td>NaN</td>\n",
       "    </tr>\n",
       "    <tr>\n",
       "      <th>3</th>\n",
       "      <td>C</td>\n",
       "      <td>Tribord</td>\n",
       "    </tr>\n",
       "    <tr>\n",
       "      <th>4</th>\n",
       "      <td>B</td>\n",
       "      <td>Tribord</td>\n",
       "    </tr>\n",
       "    <tr>\n",
       "      <th>...</th>\n",
       "      <td>...</td>\n",
       "      <td>...</td>\n",
       "    </tr>\n",
       "    <tr>\n",
       "      <th>886</th>\n",
       "      <td>NaN</td>\n",
       "      <td>NaN</td>\n",
       "    </tr>\n",
       "    <tr>\n",
       "      <th>887</th>\n",
       "      <td>C</td>\n",
       "      <td>Tribord</td>\n",
       "    </tr>\n",
       "    <tr>\n",
       "      <th>888</th>\n",
       "      <td>NaN</td>\n",
       "      <td>NaN</td>\n",
       "    </tr>\n",
       "    <tr>\n",
       "      <th>889</th>\n",
       "      <td>C</td>\n",
       "      <td>Babord</td>\n",
       "    </tr>\n",
       "    <tr>\n",
       "      <th>890</th>\n",
       "      <td>NaN</td>\n",
       "      <td>NaN</td>\n",
       "    </tr>\n",
       "  </tbody>\n",
       "</table>\n",
       "<p>891 rows × 2 columns</p>\n",
       "</div>"
      ],
      "text/plain": [
       "    Cabin_letter Cabin_parite\n",
       "0            NaN          NaN\n",
       "1              C      Tribord\n",
       "2            NaN          NaN\n",
       "3              C      Tribord\n",
       "4              B      Tribord\n",
       "..           ...          ...\n",
       "886          NaN          NaN\n",
       "887            C      Tribord\n",
       "888          NaN          NaN\n",
       "889            C       Babord\n",
       "890          NaN          NaN\n",
       "\n",
       "[891 rows x 2 columns]"
      ]
     },
     "execution_count": 20,
     "metadata": {},
     "output_type": "execute_result"
    }
   ],
   "source": [
    "# Création instance cabin_split de SplitCabin\n",
    "cabin_split = SplitCabin('Cabin')\n",
    "\n",
    "# Vérifiaction du modèle\n",
    "cabin_split.fit_transform(TestName)"
   ]
  },
  {
   "cell_type": "markdown",
   "metadata": {},
   "source": [
    "## Transformeur pour la catégorisation des titres\n",
    "\n",
    "Détermination des valeurs unique de la viriable 'Title' de TestName"
   ]
  },
  {
   "cell_type": "code",
   "execution_count": 21,
   "metadata": {},
   "outputs": [
    {
     "data": {
      "text/plain": [
       "array(['Mr', 'Mrs', 'Miss', 'Master', 'Don', 'Rev', 'Dr', 'Mme', 'Ms',\n",
       "       'Major', 'Lady', 'Sir', 'Mlle', 'Col', 'Capt', 'the Countess',\n",
       "       'Jonkheer'], dtype=object)"
      ]
     },
     "execution_count": 21,
     "metadata": {},
     "output_type": "execute_result"
    }
   ],
   "source": [
    "TestName['Title'].unique()"
   ]
  },
  {
   "cell_type": "markdown",
   "metadata": {},
   "source": [
    "Regroupement des titres dans 5 catégories:\n",
    "-\tLes femmes mariées ( 'Ms' et 'Miss') représentées par 'Miss'.\n",
    "-\tLes jeunes femmes ('Mrs') représentées par 'Mrs'.\n",
    "-\tLes hommes ('Rev'et 'Mr') représentés par 'Mr'.\n",
    "-\tLes jeunes hommes ('Master') représentés par 'Master'.\n",
    "-\tLes personnes qui ont des titres spéciaux: [\"Dr\", \"Don\",\"Mme\",\"Major\",\"Lady\",\"Sir\",\"Mlle\",\"Col\",\"Capt\",\"the Countess\",\"Jonkheer\",\"Dona\"] représentés par 'Special'.\n"
   ]
  },
  {
   "cell_type": "markdown",
   "metadata": {},
   "source": [
    "-\tDéfinition classe CategorizeTitle qui hérite des classes BaseEstimator et TransformerMixin. Cette classe aura trois méthodes, __init__, fit et transform, définies de la façon suivante:\n",
    "    * __init__: Le constructeur prend 1 argument, column_name qui sera l'attribut d'une instance CategorizeTitle. Il correspond au nom de la colonne qui devra être catégorisée ('Title').\n",
    "    * fit : Prend 2 arguments, un DataFrame X et une liste y, mais ne fait rien.\n",
    "    * transform : Prend en argument un DataFrame X. Elle change les valeurs de la colonne self.column_name en les catégorisant selon 5 titres ( 'Miss', 'Mrs', 'Mr', 'Master' et 'Special').\n"
   ]
  },
  {
   "cell_type": "code",
   "execution_count": 22,
   "metadata": {},
   "outputs": [],
   "source": [
    "class CategorizeTitle(BaseEstimator, TransformerMixin):\n",
    "    # BaseEstimator contient les méthodes get_params et set_params.\n",
    "    # TransformerMixin contient la méthode fit_transform.\n",
    "    \n",
    "    def __init__(self, column_name):\n",
    "        self.column_name = column_name   # nom de la colonne à segmenter\n",
    "        \n",
    "    def fit(self, X, y = None):  # Ne fait rien. \n",
    "        return self\n",
    "    \n",
    "    def transform(self, X): # Création de la nouvelle colonne \n",
    "        \n",
    "\n",
    "        special = [\"Dr\", \"Don\",\"Mme\",\"Major\",\"Lady\",\"Sir\",\"Mlle\",\"Col\",\"Capt\",\"the Countess\",\"Jonkheer\",\"Dona\"]\n",
    "\n",
    "        X[self.column_name] = X[self.column_name].replace(special, 'Special')\n",
    "        X[self.column_name] = X[self.column_name].replace(['Rev'], 'Mr')\n",
    "        X[self.column_name] = X[self.column_name].replace(['Ms'], 'Miss')\n",
    "        \n",
    "  \n",
    "\n",
    "        return X[[self.column_name]]\n"
   ]
  },
  {
   "cell_type": "code",
   "execution_count": 23,
   "metadata": {},
   "outputs": [
    {
     "data": {
      "text/plain": [
       "array(['Mr', 'Mrs', 'Miss', 'Master', 'Special'], dtype=object)"
      ]
     },
     "execution_count": 23,
     "metadata": {},
     "output_type": "execute_result"
    }
   ],
   "source": [
    "# Création instance cat_title de CategorizeTitle\n",
    "cat_title = CategorizeTitle('Title')\n",
    "\n",
    "# Vérification du modèle\n",
    "cat_title.fit_transform(TestName)['Title'].unique()"
   ]
  },
  {
   "cell_type": "markdown",
   "metadata": {},
   "source": [
    "# Création des pipelines intermédiaires\n",
    "\n",
    "Tous les transformeurs ont été implémentés. Avec ces transformeurs et ceux déjà implémentés sous sklearn, construction du pipeline étape par étape."
   ]
  },
  {
   "cell_type": "markdown",
   "metadata": {},
   "source": [
    "## Pipeline pour les cabines\n",
    "\n",
    "\n",
    "__Première étape__ : Création du pipeline qui va :\n",
    "- Rempcer les valeurs manquantes de Cabin grâce au transformeur AddCabins\n",
    "- Extraire le pont du numéro des cabines\n",
    "- Remplacer les valeurs manquantes grâce à un SimpleImputer\n",
    "- Encoder les varaibles grâce à une OneHotEncoder\n"
   ]
  },
  {
   "cell_type": "code",
   "execution_count": 24,
   "metadata": {},
   "outputs": [],
   "source": [
    "# Création instance cabin_si de SimpleImputer\n",
    "# -> Remplacement Nan par chaine de caractères missing\n",
    "cabin_si = SimpleImputer(strategy='constant', fill_value=\"missing\")\n",
    "\n",
    "# Instance cabine_ohe de OneHotEncoder\n",
    "cabin_ohe = OneHotEncoder()"
   ]
  },
  {
   "cell_type": "code",
   "execution_count": 25,
   "metadata": {},
   "outputs": [],
   "source": [
    "# Création du pipeline\n",
    "CabinsPipeline = Pipeline(steps=[('Complétion de cabines', complete_cabins),\n",
    "                                 ('Séparation des cabines', cabin_split),\n",
    "                                 ('Simple Imputer Cabines', cabin_si),\n",
    "                                 ('One Hot Encoder Cabines', cabin_ohe)])"
   ]
  },
  {
   "cell_type": "markdown",
   "metadata": {},
   "source": [
    "Vérification du bon focntionnement du pipeline"
   ]
  },
  {
   "cell_type": "code",
   "execution_count": 26,
   "metadata": {},
   "outputs": [
    {
     "data": {
      "text/plain": [
       "<891x12 sparse matrix of type '<class 'numpy.float64'>'\n",
       "\twith 1782 stored elements in Compressed Sparse Row format>"
      ]
     },
     "execution_count": 26,
     "metadata": {},
     "output_type": "execute_result"
    }
   ],
   "source": [
    "CabinsTest= X[['PassengerId','Name','Cabin']]\n",
    "name_split.fit_transform(CabinsTest)\n",
    "CabinsPipeline.fit_transform(CabinsTest)\n"
   ]
  },
  {
   "cell_type": "markdown",
   "metadata": {},
   "source": [
    "## Pipeline pour les titres\n",
    "\n",
    "\n"
   ]
  },
  {
   "cell_type": "markdown",
   "metadata": {},
   "source": [
    "__Deuxième étape__ : De même que pour les cabines, création pipeline qui va : \n",
    "- Catégoriser les titres grâce au transformeur CategorizeTitle;\n",
    "- Remplacer les valeurs manquantes grâce à un SimpleImputer ;\n",
    "- Encoder les variables grâce à un OneHotEncoder."
   ]
  },
  {
   "cell_type": "code",
   "execution_count": 27,
   "metadata": {},
   "outputs": [],
   "source": [
    "title_si=SimpleImputer(strategy='most_frequent')\n",
    "title_ohe=OneHotEncoder()"
   ]
  },
  {
   "cell_type": "code",
   "execution_count": 28,
   "metadata": {},
   "outputs": [],
   "source": [
    "TitlePipeline = Pipeline(steps=[ ('Catégorisation des titre', cat_title),\n",
    "                               ('Simple Imputer Titres', title_si),\n",
    "                               ('One Hot Encoder Titres', title_ohe)])\n"
   ]
  },
  {
   "cell_type": "code",
   "execution_count": 29,
   "metadata": {},
   "outputs": [
    {
     "data": {
      "text/plain": [
       "<891x5 sparse matrix of type '<class 'numpy.float64'>'\n",
       "\twith 891 stored elements in Compressed Sparse Row format>"
      ]
     },
     "execution_count": 29,
     "metadata": {},
     "output_type": "execute_result"
    }
   ],
   "source": [
    "TitlePipeline.fit_transform(CabinsTest)\n"
   ]
  },
  {
   "cell_type": "markdown",
   "metadata": {},
   "source": [
    "## Feature Union"
   ]
  },
  {
   "cell_type": "markdown",
   "metadata": {},
   "source": [
    "__Troisème étape__ : Une fois que le nom sera séparé à l'aide du transformeur SplitName, éxécution des deux pipelines précédemment implémentées. Cependant, leur exécution est indépendante l'une de l'autre."
   ]
  },
  {
   "cell_type": "code",
   "execution_count": 30,
   "metadata": {},
   "outputs": [],
   "source": [
    "# Initialisation objet FeatureUnion\n",
    "FeatureUnionPipeline = FeatureUnion([(\"Cabin\", CabinsPipeline),\n",
    "                                   (\"Title\",TitlePipeline )])\n"
   ]
  },
  {
   "cell_type": "code",
   "execution_count": 31,
   "metadata": {},
   "outputs": [
    {
     "data": {
      "text/plain": [
       "<891x17 sparse matrix of type '<class 'numpy.float64'>'\n",
       "\twith 2673 stored elements in Compressed Sparse Row format>"
      ]
     },
     "execution_count": 31,
     "metadata": {},
     "output_type": "execute_result"
    }
   ],
   "source": [
    "FeatureTest = X[['PassengerId','Name','Cabin']]\n",
    "\n",
    "name_split.fit_transform(FeatureTest)\n",
    "\n",
    "FeatureUnionPipeline.fit_transform(FeatureTest)"
   ]
  },
  {
   "cell_type": "markdown",
   "metadata": {},
   "source": [
    "## Regroupement des pipelines"
   ]
  },
  {
   "cell_type": "markdown",
   "metadata": {},
   "source": [
    "__Quatrième étape__:Finalisation de la construction du pipeline qui effectue les opérations sur les noms. CRéation du pipeline qui effectue deux tâches :\n",
    "- extraction du nom/prenom/titre grâce au SplitName\n",
    "- FeatureUnion défini."
   ]
  },
  {
   "cell_type": "code",
   "execution_count": 32,
   "metadata": {},
   "outputs": [],
   "source": [
    "NamePipeline = Pipeline([('Séparation du nom', name_split),\n",
    "                       ('Feature Union', FeatureUnionPipeline)])"
   ]
  },
  {
   "cell_type": "code",
   "execution_count": 33,
   "metadata": {},
   "outputs": [
    {
     "data": {
      "text/plain": [
       "<891x17 sparse matrix of type '<class 'numpy.float64'>'\n",
       "\twith 2673 stored elements in Compressed Sparse Row format>"
      ]
     },
     "execution_count": 33,
     "metadata": {},
     "output_type": "execute_result"
    }
   ],
   "source": [
    "Name = X[['PassengerId','Name','Cabin']]\n",
    "NamePipeline.fit_transform(Name)\n"
   ]
  },
  {
   "cell_type": "markdown",
   "metadata": {},
   "source": [
    "## Pipeline pour la taille de la famille"
   ]
  },
  {
   "cell_type": "markdown",
   "metadata": {},
   "source": [
    "__Cinquième étape__ : Pour le calcul de la taille de la famille, création du pipeline qui va :\n",
    "- Calculer la taille de la famille grâce au transformeur FamilySize;\n",
    "- Remplacer les valeurs manquantes grâce à un SimpleImputer;\n",
    "- Standardiser les données grâce à un StandardScaler."
   ]
  },
  {
   "cell_type": "code",
   "execution_count": 34,
   "metadata": {},
   "outputs": [],
   "source": [
    "size_si = SimpleImputer(strategy='mean')\n",
    "\n",
    "size_st = StandardScaler()\n"
   ]
  },
  {
   "cell_type": "code",
   "execution_count": 35,
   "metadata": {},
   "outputs": [],
   "source": [
    "SizeFamilyPipeline = Pipeline([('Somme famille', size_family),\n",
    "                        ('Simple Imputer Size', size_si),\n",
    "                        ('Standardisation Size', size_st)])\n",
    "\n",
    "\n"
   ]
  },
  {
   "cell_type": "code",
   "execution_count": 36,
   "metadata": {},
   "outputs": [
    {
     "data": {
      "text/plain": [
       "array([[ 0.05915988],\n",
       "       [ 0.05915988],\n",
       "       [-0.56097483],\n",
       "       [ 0.05915988],\n",
       "       [-0.56097483]])"
      ]
     },
     "execution_count": 36,
     "metadata": {},
     "output_type": "execute_result"
    }
   ],
   "source": [
    "Sum = X[['SibSp','Parch']]\n",
    "\n",
    "SizeFamilyPipeline.fit_transform(Sum)[:5]\n"
   ]
  },
  {
   "cell_type": "markdown",
   "metadata": {},
   "source": [
    "## Pipeline pour catégorisation des âges"
   ]
  },
  {
   "cell_type": "markdown",
   "metadata": {},
   "source": [
    "__Sixième étape__ : Pour la catégorisation des âges, Création du pipeline qui va :\n",
    "- Catégoriser les âge grâce au transformeur AgeCat;\n",
    "- Remplacer les valeurs manquantes grâce à un SimpleImputer;\n",
    "- Encoder des données grâce à un OneHotEncoder."
   ]
  },
  {
   "cell_type": "code",
   "execution_count": 37,
   "metadata": {},
   "outputs": [],
   "source": [
    "age_si = SimpleImputer(strategy='most_frequent')\n",
    "age_ohe = OneHotEncoder()"
   ]
  },
  {
   "cell_type": "code",
   "execution_count": 38,
   "metadata": {},
   "outputs": [],
   "source": [
    "AgePipeline = Pipeline([('Catégorisation des ages', age_categorized),\n",
    "                      ('Simple Imputer Ages', age_si),\n",
    "                      ('One Hot Encoder Age', age_ohe)])"
   ]
  },
  {
   "cell_type": "code",
   "execution_count": 39,
   "metadata": {},
   "outputs": [
    {
     "data": {
      "text/plain": [
       "<891x6 sparse matrix of type '<class 'numpy.float64'>'\n",
       "\twith 891 stored elements in Compressed Sparse Row format>"
      ]
     },
     "execution_count": 39,
     "metadata": {},
     "output_type": "execute_result"
    }
   ],
   "source": [
    "Aget=X[['Age']]\n",
    "\n",
    "AgePipeline.fit_transform(Aget)"
   ]
  },
  {
   "cell_type": "markdown",
   "metadata": {},
   "source": [
    "## Pipelines numériques et catégoriques\n"
   ]
  },
  {
   "cell_type": "markdown",
   "metadata": {},
   "source": [
    "__Septième étape__ : D'autres variables utiles à l'analyse ont besoin de petites transformations telles que le traitement des valeurs manquantes, l'encodage ou la standardisation.\n"
   ]
  },
  {
   "cell_type": "code",
   "execution_count": 40,
   "metadata": {},
   "outputs": [],
   "source": [
    "# Création liste num\n",
    "num = ['Pclass','Fare']\n",
    "\n",
    "# Création liste cat\n",
    "cat = ['Sex','Embarked']\n",
    "\n",
    "#Instanciation transformeur \n",
    "num_si = SimpleImputer()  \n",
    "num_st = StandardScaler()\n",
    "cat_si = SimpleImputer(strategy = 'most_frequent')\n",
    "cat_ohe = OneHotEncoder()\n",
    "\n",
    "\n",
    "# Création des pipelines\n",
    "NumericalPipeline = Pipeline(steps = [('valeurs_manquantes_num',num_si),\n",
    "                                    ('standardisation', num_st)])\n",
    "\n",
    "CategorialPipeline = Pipeline(steps = [('valeurs_manquantes_cat',cat_si),\n",
    "                                    ('encoder', cat_ohe)])\n"
   ]
  },
  {
   "cell_type": "code",
   "execution_count": 41,
   "metadata": {},
   "outputs": [
    {
     "name": "stdout",
     "output_type": "stream",
     "text": [
      "[[ 0.82737724 -0.50244517]\n",
      " [-1.56610693  0.78684529]\n",
      " [ 0.82737724 -0.48885426]] \n",
      "\n",
      "   (0, 1)\t1.0\n",
      "  (0, 4)\t1.0\n",
      "  (1, 0)\t1.0\n",
      "  (1, 2)\t1.0\n",
      "  (2, 0)\t1.0\n",
      "  (2, 4)\t1.0\n"
     ]
    }
   ],
   "source": [
    "NUM = X[num]\n",
    "CAT = X[cat]\n",
    "\n",
    "print(NumericalPipeline.fit_transform(NUM)[:3], '\\n\\n',\n",
    "CategorialPipeline.fit_transform(CAT)[:3])\n"
   ]
  },
  {
   "cell_type": "markdown",
   "metadata": {},
   "source": [
    "# Preprocessing\n",
    "\n",
    "preprocessing général du dataset grâce à la fonction make_column_transformer"
   ]
  },
  {
   "cell_type": "code",
   "execution_count": 42,
   "metadata": {},
   "outputs": [],
   "source": [
    "preprocessor = make_column_transformer( (NamePipeline, ['PassengerId','Name','Cabin']),\n",
    "                                     (SizeFamilyPipeline,['SibSp','Parch']),\n",
    "                                     (AgePipeline, ['Age']),\n",
    "                                      (NumericalPipeline, num),\n",
    "                                     (CategorialPipeline, cat))"
   ]
  },
  {
   "cell_type": "code",
   "execution_count": 43,
   "metadata": {},
   "outputs": [
    {
     "data": {
      "text/plain": [
       "<891x31 sparse matrix of type '<class 'numpy.float64'>'\n",
       "\twith 8019 stored elements in Compressed Sparse Row format>"
      ]
     },
     "execution_count": 43,
     "metadata": {},
     "output_type": "execute_result"
    }
   ],
   "source": [
    "copie = X.copy()\n",
    "\n",
    "preprocessor.fit_transform(copie)\n"
   ]
  },
  {
   "cell_type": "markdown",
   "metadata": {},
   "source": [
    "# Pipeline final\n"
   ]
  },
  {
   "cell_type": "markdown",
   "metadata": {},
   "source": [
    "Création du pipeline à deux étapes : le preprocessor défini plus haut puis un modèle de Machine Learning : GradientBoostingClassifier."
   ]
  },
  {
   "cell_type": "code",
   "execution_count": 44,
   "metadata": {},
   "outputs": [],
   "source": [
    "final_pipeline = Pipeline(steps= [('notre_p', preprocessor), \n",
    "                        ('regression_regularisee',GradientBoostingClassifier())])"
   ]
  },
  {
   "cell_type": "markdown",
   "metadata": {},
   "source": [
    "# Prédiction et score"
   ]
  },
  {
   "cell_type": "code",
   "execution_count": 45,
   "metadata": {},
   "outputs": [],
   "source": [
    "X_train, X_test, y_train, y_test = train_test_split(X, y , test_size = 0.2, random_state = 210995)"
   ]
  },
  {
   "cell_type": "code",
   "execution_count": 46,
   "metadata": {},
   "outputs": [
    {
     "data": {
      "text/plain": [
       "0.8156424581005587"
      ]
     },
     "execution_count": 46,
     "metadata": {},
     "output_type": "execute_result"
    }
   ],
   "source": [
    "from sklearn.metrics import accuracy_score\n",
    "\n",
    "final_pipeline.fit(X_train, y_train)\n",
    "\n",
    "y_pred = final_pipeline.predict(X_test)\n",
    "\n",
    "accuracy_score(y_test, y_pred)\n"
   ]
  }
 ],
 "metadata": {
  "kernelspec": {
   "display_name": "projetct",
   "language": "python",
   "name": "python3"
  },
  "language_info": {
   "codemirror_mode": {
    "name": "ipython",
    "version": 3
   },
   "file_extension": ".py",
   "mimetype": "text/x-python",
   "name": "python",
   "nbconvert_exporter": "python",
   "pygments_lexer": "ipython3",
   "version": "3.11.8"
  }
 },
 "nbformat": 4,
 "nbformat_minor": 2
}
